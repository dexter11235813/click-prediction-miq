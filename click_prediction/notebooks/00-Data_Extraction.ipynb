{
 "cells": [
  {
   "cell_type": "markdown",
   "id": "49e97edd-e689-4553-8793-e8f1a0421598",
   "metadata": {},
   "source": [
    "This notebook extracts the **train** and **test** data from the shared Excel sheet and stores it in separate files"
   ]
  },
  {
   "cell_type": "code",
   "execution_count": 2,
   "id": "fde0cccc-c8e3-4255-9dff-bc24b376b96c",
   "metadata": {},
   "outputs": [],
   "source": [
    "import sys\n",
    "import os \n",
    "import pathlib \n",
    "\n",
    "sys.path.append(str(pathlib.Path(os.getcwd()).resolve().parent))\n",
    "\n",
    "from config import config "
   ]
  },
  {
   "cell_type": "code",
   "execution_count": null,
   "id": "9081da18-36a4-4a59-acc8-46bcd2a62ddb",
   "metadata": {},
   "outputs": [],
   "source": [
    "%%time\n",
    "train_data = pd.read_excel(\n",
    "    config.DATA_RAW,\n",
    "    sheet_name=\"Train\",\n",
    ")\n",
    "test_data = pd.read_excel(\n",
    "    config.DATA_RAW,\n",
    "    sheet_name=\"Test\",\n",
    ")"
   ]
  },
  {
   "cell_type": "code",
   "execution_count": null,
   "id": "ddaef9b2-f057-4cbc-86f9-7d9a4ef1c4a0",
   "metadata": {},
   "outputs": [],
   "source": [
    "train_data.to_parquet(\n",
    "    config.TRAIN_DATASET_RAW\n",
    ")\n",
    "test_data.to_parquet(\n",
    "    config.TEST_DATASET_RAW\n",
    ")"
   ]
  },
  {
   "cell_type": "code",
   "execution_count": null,
   "id": "b144e10b-8778-45f2-b4bd-7d78b6426900",
   "metadata": {},
   "outputs": [],
   "source": []
  },
  {
   "cell_type": "code",
   "execution_count": null,
   "id": "209f6932-60a5-4b6e-a3e3-96cece0c1f88",
   "metadata": {},
   "outputs": [],
   "source": []
  }
 ],
 "metadata": {
  "kernelspec": {
   "display_name": "Python 3 (ipykernel)",
   "language": "python",
   "name": "python3"
  },
  "language_info": {
   "codemirror_mode": {
    "name": "ipython",
    "version": 3
   },
   "file_extension": ".py",
   "mimetype": "text/x-python",
   "name": "python",
   "nbconvert_exporter": "python",
   "pygments_lexer": "ipython3",
   "version": "3.9.5"
  }
 },
 "nbformat": 4,
 "nbformat_minor": 5
}
