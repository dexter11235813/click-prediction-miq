{
 "cells": [
  {
   "cell_type": "code",
   "execution_count": null,
   "id": "ab982bc4-53fb-47aa-929d-7f7330f7144c",
   "metadata": {},
   "outputs": [],
   "source": []
  },
  {
   "cell_type": "markdown",
   "id": "5110eefd-0d5e-4412-b1cf-a61a822f145a",
   "metadata": {},
   "source": [
    "## CONTENTS\n",
    "\n",
    "1. [Imports](#Imports)\n",
    "2. [Assumptions](#Assumptions)\n",
    "3. [Modelling](#Modelling)\n",
    "   - [Algorithm Selection](#Algorithm-Selection)\n",
    "   - [Data Preparation](#Data-Preparation)\n",
    "4. [Training](#Training)\n",
    "5. [Metrics](#Metrics)\n",
    "6. [Predictions](#Predictions-on-Test-Data)"
   ]
  },
  {
   "cell_type": "markdown",
   "id": "4744f9ff-9b9e-4d5f-abe1-5e412070c106",
   "metadata": {
    "tags": []
   },
   "source": [
    "# Imports"
   ]
  },
  {
   "cell_type": "code",
   "execution_count": 1,
   "id": "f5c5e51e-eaf9-44e7-834a-00dc680512fb",
   "metadata": {},
   "outputs": [],
   "source": [
    "%load_ext autoreload\n",
    "%autoreload 2\n",
    "%load_ext lab_black"
   ]
  },
  {
   "cell_type": "code",
   "execution_count": 2,
   "id": "63f4f450-86b6-4363-aa2c-d9276ed6cdb9",
   "metadata": {},
   "outputs": [],
   "source": [
    "import warnings\n",
    "\n",
    "warnings.filterwarnings(\"ignore\")\n",
    "warnings.simplefilter(action=\"ignore\", category=FutureWarning)"
   ]
  },
  {
   "cell_type": "code",
   "execution_count": null,
   "id": "399cfdf9-e858-45ac-af78-be4fd3a9a339",
   "metadata": {},
   "outputs": [],
   "source": []
  },
  {
   "cell_type": "code",
   "execution_count": 65,
   "id": "264e912f-c7b4-4ee8-979d-71d4670a34f6",
   "metadata": {},
   "outputs": [],
   "source": [
    "import pathlib\n",
    "import os\n",
    "import sys\n",
    "\n",
    "import pandas as pd\n",
    "import numpy as np\n",
    "\n",
    "from sklearn.model_selection import (\n",
    "    train_test_split,\n",
    "    GridSearchCV,\n",
    "    StratifiedKFold,\n",
    "    cross_val_score,\n",
    ")\n",
    "from sklearn.preprocessing import OrdinalEncoder\n",
    "from category_encoders import TargetEncoder\n",
    "from sklearn.metrics import (\n",
    "    accuracy_score,\n",
    "    confusion_matrix,\n",
    "    roc_auc_score,\n",
    "    f1_score,\n",
    "    log_loss,\n",
    ")\n",
    "\n",
    "import xgboost as xgb\n",
    "import lightgbm as lgb\n",
    "import catboost as catb\n",
    "\n",
    "import matplotlib.pyplot as plt\n",
    "import seaborn as sns\n",
    "\n",
    "\n",
    "import optuna"
   ]
  },
  {
   "cell_type": "code",
   "execution_count": 4,
   "id": "125818aa-a2e5-43b7-926f-82e27dbd2360",
   "metadata": {},
   "outputs": [],
   "source": [
    "sys.path.append(str(pathlib.Path(os.getcwd()).resolve().parent))"
   ]
  },
  {
   "cell_type": "code",
   "execution_count": 308,
   "id": "548a36b3-20c2-458b-9b42-d1c82e357b0c",
   "metadata": {},
   "outputs": [],
   "source": [
    "from config import config\n",
    "from src import utils\n",
    "from src.preprocessing import preprocessors, pipelines\n",
    "from src.models import parameter_tuning"
   ]
  },
  {
   "cell_type": "markdown",
   "id": "034ae484-d783-41d8-bb1d-7fa315272c1f",
   "metadata": {
    "tags": []
   },
   "source": [
    "# Assumptions \n",
    "\n",
    "- There does not exist any ordinal relationship in the numeric encodings for the data."
   ]
  },
  {
   "cell_type": "markdown",
   "id": "d5a7e087-1398-48c7-b1b6-720197bc3b61",
   "metadata": {},
   "source": [
    "# Modelling"
   ]
  },
  {
   "cell_type": "markdown",
   "id": "080ac738-37eb-41bd-a47a-ee1bec9eb147",
   "metadata": {},
   "source": [
    "### Algorithm Selection"
   ]
  },
  {
   "cell_type": "markdown",
   "id": "cc0d6aa5-7a0b-4db7-9fe5-707f8f957713",
   "metadata": {},
   "source": [
    "To model the click prediction problem, the following tree based boosting algorithms were experimented with :- \n",
    "- XGBoost\n",
    "- CatBoost\n",
    "- LightGBM\n",
    "\n",
    "In the end, the XGBoost algorithm was chosen for fitting the final model. \n",
    "\n",
    "Since the dataset is heavily imbalanced, accuracy is not a good metric to evaluate model performance. F1 score, which is a harmonic combination of precision and recall scores, serves as as much better metric for performance, along with the ROC - AUC Curve.  "
   ]
  },
  {
   "cell_type": "markdown",
   "id": "ebdfcda5-ef98-4e16-b3a7-be37b8010d46",
   "metadata": {
    "tags": []
   },
   "source": [
    "### Data Preparation"
   ]
  },
  {
   "cell_type": "markdown",
   "id": "e0de0881-6e22-48a2-acc1-a8f29eb568d0",
   "metadata": {},
   "source": [
    "Reading in the train and test data files created in **Data Extraction** Notebook."
   ]
  },
  {
   "cell_type": "code",
   "execution_count": 335,
   "id": "67c08ca1-f57f-4acd-9c42-5deb8f678c9a",
   "metadata": {},
   "outputs": [],
   "source": [
    "train_data = pd.read_parquet(config.TRAIN_DATASET_RAW)\n",
    "test_data = pd.read_parquet(config.TEST_DATASET_RAW)"
   ]
  },
  {
   "cell_type": "markdown",
   "id": "d59960e2-947c-49a4-a9ea-4628590484be",
   "metadata": {},
   "source": [
    "Since all the features are categorical, "
   ]
  },
  {
   "cell_type": "code",
   "execution_count": 337,
   "id": "3b58930d-a8a8-4ddd-9bab-afaaf8c651c3",
   "metadata": {},
   "outputs": [
    {
     "data": {
      "text/plain": [
       "0    0.900574\n",
       "1    0.099426\n",
       "Name: click, dtype: float64"
      ]
     },
     "execution_count": 337,
     "metadata": {},
     "output_type": "execute_result"
    }
   ],
   "source": [
    "train_data.click.value_counts(normalize=True)"
   ]
  },
  {
   "cell_type": "code",
   "execution_count": 338,
   "id": "0ec678f4-1f27-44b8-a70c-544d38d1c83e",
   "metadata": {},
   "outputs": [],
   "source": [
    "# stratified train test split\n",
    "X_train, X_valid, y_train, y_valid = train_test_split(\n",
    "    train_data.drop(columns=\"click\"),\n",
    "    train_data[\"click\"],\n",
    "    shuffle=True,\n",
    "    random_state=config.SEED,\n",
    "    stratify=train_data[\"click\"],\n",
    ")"
   ]
  },
  {
   "cell_type": "code",
   "execution_count": 339,
   "id": "09868188-6aea-495e-bf6f-0ae483003c57",
   "metadata": {},
   "outputs": [
    {
     "data": {
      "text/plain": [
       "0    0.90057\n",
       "1    0.09943\n",
       "Name: click, dtype: float64"
      ]
     },
     "execution_count": 339,
     "metadata": {},
     "output_type": "execute_result"
    }
   ],
   "source": [
    "y_train.value_counts(normalize=True)"
   ]
  },
  {
   "cell_type": "markdown",
   "id": "16d74730-7fcd-461d-bbaf-984a46e4eed2",
   "metadata": {},
   "source": [
    "Since the dataset is heavily imbalanced (~90 % of labels in the training dataset are class **0**),any ML model fit over the untreated dataset will lead to perform poorly on the minority class. To address this challenge, following approaches were considered.\n",
    "\n",
    "- SMOTE (Synthetic Minority Oversampling Technique), which looks to balance the dataset by generating synthetic datapoints for the minority class. Since the dataset is composed of all categorical features, a variant of SMOTE, [SMOTEN](https://imbalanced-learn.org/stable/references/generated/imblearn.over_sampling.SMOTEN.html) would be appropriate for data augmentation. \n",
    "- Random Undersampling of the minority class, wherein only a fraction of all the majority class datapoints are dropped in order to improve the ratio of classes labels. \n",
    "- Assigning differential class weights to majority and minority class samples, such that misclassifying a minority class datapoint accrues higher penalty as compared to misclassifying a majority class datapoint. \n",
    "\n",
    "After experimenting with the approaches listed above, a combination of Random Undersampling + Scaling Positive Class Weights approaches were used to ameliorate the effects of class imbalance."
   ]
  },
  {
   "cell_type": "code",
   "execution_count": 340,
   "id": "88848658-8c1c-4a1d-9540-522cda9eef14",
   "metadata": {},
   "outputs": [],
   "source": [
    "pos_idx = y_train[y_train == 1].index\n",
    "neg_idx = y_train[y_train == 0].sample(frac=0.2, random_state=config.SEED).index\n",
    "\n",
    "X_train_pos = X_train.loc[pos_idx, :]\n",
    "X_train_neg = X_train.loc[neg_idx, :]\n",
    "\n",
    "X_train_pos[config.TARGET] = y_train[pos_idx]\n",
    "X_train_neg[config.TARGET] = y_train[neg_idx]\n",
    "\n",
    "comb = pd.concat([X_train_pos, X_train_neg]).sample(frac=1).reset_index()\n",
    "\n",
    "X_train, y_train = comb[config.FEATURES], comb[config.TARGET]"
   ]
  },
  {
   "cell_type": "code",
   "execution_count": 341,
   "id": "1834c95f-e003-4301-8bf4-37ca4195e864",
   "metadata": {},
   "outputs": [
    {
     "data": {
      "text/plain": [
       "((17327, 19), (20661, 19), (17327,), (20661,))"
      ]
     },
     "execution_count": 341,
     "metadata": {},
     "output_type": "execute_result"
    }
   ],
   "source": [
    "X_train.shape, X_valid.shape, y_train.shape, y_valid.shape"
   ]
  },
  {
   "cell_type": "code",
   "execution_count": 342,
   "id": "ca9ceb61-69ac-472b-8911-f78dc9bcd556",
   "metadata": {},
   "outputs": [],
   "source": [
    "X_train = X_train.reset_index(drop=True)\n",
    "y_train = y_train.reset_index(drop=True)\n",
    "X_valid = X_valid.reset_index(drop=True)\n",
    "y_valid = y_valid.reset_index(drop=True)"
   ]
  },
  {
   "cell_type": "markdown",
   "id": "e2a6a67d-dcb6-4e3e-98e2-c044f4223dce",
   "metadata": {},
   "source": [
    "Saving the train and valid files in the **/data/final** folder"
   ]
  },
  {
   "cell_type": "code",
   "execution_count": 343,
   "id": "3d755a8d-85f4-4f7b-922b-b803799f4f35",
   "metadata": {},
   "outputs": [],
   "source": [
    "X_train.to_csv(config.X_TRAIN, index=False)\n",
    "y_train.to_csv(config.Y_TRAIN, index=False)\n",
    "X_valid.to_csv(config.X_VALID, index=False)\n",
    "y_valid.to_csv(config.Y_VALID, index=False)"
   ]
  },
  {
   "cell_type": "markdown",
   "id": "1805242b-1e2c-4779-8fa1-610b0cc20566",
   "metadata": {},
   "source": [
    "After retaining only 20% of the class **0** records, and a 100% of all class **1** records in the trianing dataset, the following distirbution for class labels in the training dataset is noted"
   ]
  },
  {
   "cell_type": "code",
   "execution_count": 344,
   "id": "89d74510-eff3-40ea-ad39-7e36c2499e6a",
   "metadata": {},
   "outputs": [
    {
     "data": {
      "text/plain": [
       "0    0.644312\n",
       "1    0.355688\n",
       "Name: click, dtype: float64"
      ]
     },
     "execution_count": 344,
     "metadata": {},
     "output_type": "execute_result"
    }
   ],
   "source": [
    "y_train.value_counts(normalize=True)"
   ]
  },
  {
   "cell_type": "markdown",
   "id": "8ff30e4b-d7cd-4f04-ac7c-ec2d19f14fa4",
   "metadata": {},
   "source": [
    "The Scale factor for class **1** datapoints is set to the ratio of # class **0** datapoints in train to the # class **1** datapoints in train"
   ]
  },
  {
   "cell_type": "code",
   "execution_count": 374,
   "id": "41a0bc6b-9c56-4aaa-86bd-f07111fb3d72",
   "metadata": {},
   "outputs": [
    {
     "data": {
      "text/plain": [
       "1.811455460003245"
      ]
     },
     "execution_count": 374,
     "metadata": {},
     "output_type": "execute_result"
    }
   ],
   "source": [
    "weight = len(y_train[y_train == 0]) / len(y_train[y_train == 1])\n",
    "weight"
   ]
  },
  {
   "cell_type": "markdown",
   "id": "3743537d-0bf7-4fdf-bb08-aac91dd80848",
   "metadata": {},
   "source": [
    "# Training"
   ]
  },
  {
   "cell_type": "code",
   "execution_count": 375,
   "id": "49d09b1b-38fc-4d42-8501-86fe5fbc4203",
   "metadata": {},
   "outputs": [],
   "source": [
    "pipeline = pipelines.get_pipeline(params)"
   ]
  },
  {
   "cell_type": "code",
   "execution_count": 377,
   "id": "8bee99f0-61e2-4fc1-8ddd-bb259a90205b",
   "metadata": {},
   "outputs": [
    {
     "data": {
      "text/html": [
       "<style>#sk-container-id-12 {color: black;background-color: white;}#sk-container-id-12 pre{padding: 0;}#sk-container-id-12 div.sk-toggleable {background-color: white;}#sk-container-id-12 label.sk-toggleable__label {cursor: pointer;display: block;width: 100%;margin-bottom: 0;padding: 0.3em;box-sizing: border-box;text-align: center;}#sk-container-id-12 label.sk-toggleable__label-arrow:before {content: \"▸\";float: left;margin-right: 0.25em;color: #696969;}#sk-container-id-12 label.sk-toggleable__label-arrow:hover:before {color: black;}#sk-container-id-12 div.sk-estimator:hover label.sk-toggleable__label-arrow:before {color: black;}#sk-container-id-12 div.sk-toggleable__content {max-height: 0;max-width: 0;overflow: hidden;text-align: left;background-color: #f0f8ff;}#sk-container-id-12 div.sk-toggleable__content pre {margin: 0.2em;color: black;border-radius: 0.25em;background-color: #f0f8ff;}#sk-container-id-12 input.sk-toggleable__control:checked~div.sk-toggleable__content {max-height: 200px;max-width: 100%;overflow: auto;}#sk-container-id-12 input.sk-toggleable__control:checked~label.sk-toggleable__label-arrow:before {content: \"▾\";}#sk-container-id-12 div.sk-estimator input.sk-toggleable__control:checked~label.sk-toggleable__label {background-color: #d4ebff;}#sk-container-id-12 div.sk-label input.sk-toggleable__control:checked~label.sk-toggleable__label {background-color: #d4ebff;}#sk-container-id-12 input.sk-hidden--visually {border: 0;clip: rect(1px 1px 1px 1px);clip: rect(1px, 1px, 1px, 1px);height: 1px;margin: -1px;overflow: hidden;padding: 0;position: absolute;width: 1px;}#sk-container-id-12 div.sk-estimator {font-family: monospace;background-color: #f0f8ff;border: 1px dotted black;border-radius: 0.25em;box-sizing: border-box;margin-bottom: 0.5em;}#sk-container-id-12 div.sk-estimator:hover {background-color: #d4ebff;}#sk-container-id-12 div.sk-parallel-item::after {content: \"\";width: 100%;border-bottom: 1px solid gray;flex-grow: 1;}#sk-container-id-12 div.sk-label:hover label.sk-toggleable__label {background-color: #d4ebff;}#sk-container-id-12 div.sk-serial::before {content: \"\";position: absolute;border-left: 1px solid gray;box-sizing: border-box;top: 0;bottom: 0;left: 50%;z-index: 0;}#sk-container-id-12 div.sk-serial {display: flex;flex-direction: column;align-items: center;background-color: white;padding-right: 0.2em;padding-left: 0.2em;position: relative;}#sk-container-id-12 div.sk-item {position: relative;z-index: 1;}#sk-container-id-12 div.sk-parallel {display: flex;align-items: stretch;justify-content: center;background-color: white;position: relative;}#sk-container-id-12 div.sk-item::before, #sk-container-id-12 div.sk-parallel-item::before {content: \"\";position: absolute;border-left: 1px solid gray;box-sizing: border-box;top: 0;bottom: 0;left: 50%;z-index: -1;}#sk-container-id-12 div.sk-parallel-item {display: flex;flex-direction: column;z-index: 1;position: relative;background-color: white;}#sk-container-id-12 div.sk-parallel-item:first-child::after {align-self: flex-end;width: 50%;}#sk-container-id-12 div.sk-parallel-item:last-child::after {align-self: flex-start;width: 50%;}#sk-container-id-12 div.sk-parallel-item:only-child::after {width: 0;}#sk-container-id-12 div.sk-dashed-wrapped {border: 1px dashed gray;margin: 0 0.4em 0.5em 0.4em;box-sizing: border-box;padding-bottom: 0.4em;background-color: white;}#sk-container-id-12 div.sk-label label {font-family: monospace;font-weight: bold;display: inline-block;line-height: 1.2em;}#sk-container-id-12 div.sk-label-container {text-align: center;}#sk-container-id-12 div.sk-container {/* jupyter's `normalize.less` sets `[hidden] { display: none; }` but bootstrap.min.css set `[hidden] { display: none !important; }` so we also need the `!important` here to be able to override the default hidden behavior on the sphinx rendered scikit-learn.org. See: https://github.com/scikit-learn/scikit-learn/issues/21755 */display: inline-block !important;position: relative;}#sk-container-id-12 div.sk-text-repr-fallback {display: none;}</style><div id=\"sk-container-id-12\" class=\"sk-top-container\"><div class=\"sk-text-repr-fallback\"><pre>Pipeline(steps=[(&#x27;categorical_encoding&#x27;,\n",
       "                 CategoricalTransformer(columns=[&#x27;hash_0&#x27;, &#x27;hash_1&#x27;, &#x27;hash_2&#x27;,\n",
       "                                                 &#x27;hash_3&#x27;, &#x27;hash_4&#x27;, &#x27;hash_5&#x27;,\n",
       "                                                 &#x27;hash_6&#x27;, &#x27;hash_7&#x27;, &#x27;hash_8&#x27;,\n",
       "                                                 &#x27;hash_9&#x27;, &#x27;hash_10&#x27;, &#x27;hash_11&#x27;,\n",
       "                                                 &#x27;hash_12&#x27;, &#x27;hash_13&#x27;,\n",
       "                                                 &#x27;hash_14&#x27;, &#x27;hash_15&#x27;,\n",
       "                                                 &#x27;hash_16&#x27;, &#x27;hash_17&#x27;,\n",
       "                                                 &#x27;hash_18&#x27;])),\n",
       "                (&#x27;categorical_mapping&#x27;,\n",
       "                 CategoricalMapper(columns=[&#x27;hash_0&#x27;, &#x27;hash_1&#x27;, &#x27;hash_2&#x27;,\n",
       "                                            &#x27;hash_3&#x27;, &#x27;hash_4&#x27;,...\n",
       "                               gpu_id=None, grow_policy=None,\n",
       "                               importance_type=None,\n",
       "                               interaction_constraints=None,\n",
       "                               learning_rate=0.029831684879606152, max_bin=None,\n",
       "                               max_cat_threshold=None, max_cat_to_onehot=None,\n",
       "                               max_delta_step=None, max_depth=5,\n",
       "                               max_leaves=None, min_child_weight=None,\n",
       "                               missing=nan, monotone_constraints=None,\n",
       "                               n_estimators=81, n_jobs=None,\n",
       "                               num_parallel_tree=None, predictor=None,\n",
       "                               random_state=None, ...))])</pre><b>In a Jupyter environment, please rerun this cell to show the HTML representation or trust the notebook. <br />On GitHub, the HTML representation is unable to render, please try loading this page with nbviewer.org.</b></div><div class=\"sk-container\" hidden><div class=\"sk-item sk-dashed-wrapped\"><div class=\"sk-label-container\"><div class=\"sk-label sk-toggleable\"><input class=\"sk-toggleable__control sk-hidden--visually\" id=\"sk-estimator-id-48\" type=\"checkbox\" ><label for=\"sk-estimator-id-48\" class=\"sk-toggleable__label sk-toggleable__label-arrow\">Pipeline</label><div class=\"sk-toggleable__content\"><pre>Pipeline(steps=[(&#x27;categorical_encoding&#x27;,\n",
       "                 CategoricalTransformer(columns=[&#x27;hash_0&#x27;, &#x27;hash_1&#x27;, &#x27;hash_2&#x27;,\n",
       "                                                 &#x27;hash_3&#x27;, &#x27;hash_4&#x27;, &#x27;hash_5&#x27;,\n",
       "                                                 &#x27;hash_6&#x27;, &#x27;hash_7&#x27;, &#x27;hash_8&#x27;,\n",
       "                                                 &#x27;hash_9&#x27;, &#x27;hash_10&#x27;, &#x27;hash_11&#x27;,\n",
       "                                                 &#x27;hash_12&#x27;, &#x27;hash_13&#x27;,\n",
       "                                                 &#x27;hash_14&#x27;, &#x27;hash_15&#x27;,\n",
       "                                                 &#x27;hash_16&#x27;, &#x27;hash_17&#x27;,\n",
       "                                                 &#x27;hash_18&#x27;])),\n",
       "                (&#x27;categorical_mapping&#x27;,\n",
       "                 CategoricalMapper(columns=[&#x27;hash_0&#x27;, &#x27;hash_1&#x27;, &#x27;hash_2&#x27;,\n",
       "                                            &#x27;hash_3&#x27;, &#x27;hash_4&#x27;,...\n",
       "                               gpu_id=None, grow_policy=None,\n",
       "                               importance_type=None,\n",
       "                               interaction_constraints=None,\n",
       "                               learning_rate=0.029831684879606152, max_bin=None,\n",
       "                               max_cat_threshold=None, max_cat_to_onehot=None,\n",
       "                               max_delta_step=None, max_depth=5,\n",
       "                               max_leaves=None, min_child_weight=None,\n",
       "                               missing=nan, monotone_constraints=None,\n",
       "                               n_estimators=81, n_jobs=None,\n",
       "                               num_parallel_tree=None, predictor=None,\n",
       "                               random_state=None, ...))])</pre></div></div></div><div class=\"sk-serial\"><div class=\"sk-item\"><div class=\"sk-estimator sk-toggleable\"><input class=\"sk-toggleable__control sk-hidden--visually\" id=\"sk-estimator-id-49\" type=\"checkbox\" ><label for=\"sk-estimator-id-49\" class=\"sk-toggleable__label sk-toggleable__label-arrow\">CategoricalTransformer</label><div class=\"sk-toggleable__content\"><pre>CategoricalTransformer(columns=[&#x27;hash_0&#x27;, &#x27;hash_1&#x27;, &#x27;hash_2&#x27;, &#x27;hash_3&#x27;,\n",
       "                                &#x27;hash_4&#x27;, &#x27;hash_5&#x27;, &#x27;hash_6&#x27;, &#x27;hash_7&#x27;,\n",
       "                                &#x27;hash_8&#x27;, &#x27;hash_9&#x27;, &#x27;hash_10&#x27;, &#x27;hash_11&#x27;,\n",
       "                                &#x27;hash_12&#x27;, &#x27;hash_13&#x27;, &#x27;hash_14&#x27;, &#x27;hash_15&#x27;,\n",
       "                                &#x27;hash_16&#x27;, &#x27;hash_17&#x27;, &#x27;hash_18&#x27;])</pre></div></div></div><div class=\"sk-item\"><div class=\"sk-estimator sk-toggleable\"><input class=\"sk-toggleable__control sk-hidden--visually\" id=\"sk-estimator-id-50\" type=\"checkbox\" ><label for=\"sk-estimator-id-50\" class=\"sk-toggleable__label sk-toggleable__label-arrow\">CategoricalMapper</label><div class=\"sk-toggleable__content\"><pre>CategoricalMapper(columns=[&#x27;hash_0&#x27;, &#x27;hash_1&#x27;, &#x27;hash_2&#x27;, &#x27;hash_3&#x27;, &#x27;hash_4&#x27;,\n",
       "                           &#x27;hash_5&#x27;, &#x27;hash_6&#x27;, &#x27;hash_7&#x27;, &#x27;hash_8&#x27;, &#x27;hash_9&#x27;,\n",
       "                           &#x27;hash_10&#x27;, &#x27;hash_11&#x27;, &#x27;hash_12&#x27;, &#x27;hash_13&#x27;,\n",
       "                           &#x27;hash_14&#x27;, &#x27;hash_15&#x27;, &#x27;hash_16&#x27;, &#x27;hash_17&#x27;,\n",
       "                           &#x27;hash_18&#x27;])</pre></div></div></div><div class=\"sk-item\"><div class=\"sk-estimator sk-toggleable\"><input class=\"sk-toggleable__control sk-hidden--visually\" id=\"sk-estimator-id-51\" type=\"checkbox\" ><label for=\"sk-estimator-id-51\" class=\"sk-toggleable__label sk-toggleable__label-arrow\">TargetEncoder</label><div class=\"sk-toggleable__content\"><pre>TargetEncoder(cols=[&#x27;hash_0&#x27;, &#x27;hash_1&#x27;, &#x27;hash_2&#x27;, &#x27;hash_3&#x27;, &#x27;hash_4&#x27;, &#x27;hash_5&#x27;,\n",
       "                    &#x27;hash_6&#x27;, &#x27;hash_7&#x27;, &#x27;hash_8&#x27;, &#x27;hash_9&#x27;, &#x27;hash_10&#x27;,\n",
       "                    &#x27;hash_11&#x27;, &#x27;hash_12&#x27;, &#x27;hash_13&#x27;, &#x27;hash_14&#x27;, &#x27;hash_15&#x27;,\n",
       "                    &#x27;hash_16&#x27;, &#x27;hash_17&#x27;, &#x27;hash_18&#x27;])</pre></div></div></div><div class=\"sk-item\"><div class=\"sk-estimator sk-toggleable\"><input class=\"sk-toggleable__control sk-hidden--visually\" id=\"sk-estimator-id-52\" type=\"checkbox\" ><label for=\"sk-estimator-id-52\" class=\"sk-toggleable__label sk-toggleable__label-arrow\">XGBClassifier</label><div class=\"sk-toggleable__content\"><pre>XGBClassifier(base_score=None, booster=None, callbacks=None,\n",
       "              colsample_bylevel=None, colsample_bynode=None,\n",
       "              colsample_bytree=0.05404103854647329, early_stopping_rounds=None,\n",
       "              enable_categorical=False, eval_metric=None, feature_types=None,\n",
       "              gamma=2.1734877073417355e-06, gpu_id=None, grow_policy=None,\n",
       "              importance_type=None, interaction_constraints=None,\n",
       "              learning_rate=0.029831684879606152, max_bin=None,\n",
       "              max_cat_threshold=None, max_cat_to_onehot=None,\n",
       "              max_delta_step=None, max_depth=5, max_leaves=None,\n",
       "              min_child_weight=None, missing=nan, monotone_constraints=None,\n",
       "              n_estimators=81, n_jobs=None, num_parallel_tree=None,\n",
       "              predictor=None, random_state=None, ...)</pre></div></div></div></div></div></div></div>"
      ],
      "text/plain": [
       "Pipeline(steps=[('categorical_encoding',\n",
       "                 CategoricalTransformer(columns=['hash_0', 'hash_1', 'hash_2',\n",
       "                                                 'hash_3', 'hash_4', 'hash_5',\n",
       "                                                 'hash_6', 'hash_7', 'hash_8',\n",
       "                                                 'hash_9', 'hash_10', 'hash_11',\n",
       "                                                 'hash_12', 'hash_13',\n",
       "                                                 'hash_14', 'hash_15',\n",
       "                                                 'hash_16', 'hash_17',\n",
       "                                                 'hash_18'])),\n",
       "                ('categorical_mapping',\n",
       "                 CategoricalMapper(columns=['hash_0', 'hash_1', 'hash_2',\n",
       "                                            'hash_3', 'hash_4',...\n",
       "                               gpu_id=None, grow_policy=None,\n",
       "                               importance_type=None,\n",
       "                               interaction_constraints=None,\n",
       "                               learning_rate=0.029831684879606152, max_bin=None,\n",
       "                               max_cat_threshold=None, max_cat_to_onehot=None,\n",
       "                               max_delta_step=None, max_depth=5,\n",
       "                               max_leaves=None, min_child_weight=None,\n",
       "                               missing=nan, monotone_constraints=None,\n",
       "                               n_estimators=81, n_jobs=None,\n",
       "                               num_parallel_tree=None, predictor=None,\n",
       "                               random_state=None, ...))])"
      ]
     },
     "execution_count": 377,
     "metadata": {},
     "output_type": "execute_result"
    }
   ],
   "source": [
    "pipeline.fit(X_train, y_train)"
   ]
  },
  {
   "cell_type": "code",
   "execution_count": 378,
   "id": "dea78aba-b9f7-4ed6-8253-c15bf7ea0f6f",
   "metadata": {},
   "outputs": [],
   "source": [
    "preds = pipeline.predict(X_valid)\n",
    "preds_proba = pipeline.predict_proba(X_valid)"
   ]
  },
  {
   "cell_type": "markdown",
   "id": "f7c90aa6-f699-41d7-b5b3-0af5c41309cc",
   "metadata": {},
   "source": [
    "# Metrics"
   ]
  },
  {
   "cell_type": "markdown",
   "id": "2af62144-95a1-4087-a3d8-3614c78e4565",
   "metadata": {},
   "source": [
    "### Accuracy Score on Validation Dataset"
   ]
  },
  {
   "cell_type": "code",
   "execution_count": 364,
   "id": "a3d28b0e-d02c-4176-bd32-e2252a85f33b",
   "metadata": {},
   "outputs": [
    {
     "data": {
      "text/plain": [
       "0.7638062049271575"
      ]
     },
     "execution_count": 364,
     "metadata": {},
     "output_type": "execute_result"
    }
   ],
   "source": [
    "accuracy_score(y_valid, preds)"
   ]
  },
  {
   "cell_type": "markdown",
   "id": "fcd7b772-b16c-473d-a3a1-bff9753fc031",
   "metadata": {},
   "source": [
    "### ROC - AUC Score on Validation Dataset"
   ]
  },
  {
   "cell_type": "code",
   "execution_count": 365,
   "id": "9f617da9-6928-41a5-94ea-b274f36f78f5",
   "metadata": {},
   "outputs": [
    {
     "data": {
      "text/plain": [
       "0.7985612726811935"
      ]
     },
     "execution_count": 365,
     "metadata": {},
     "output_type": "execute_result"
    }
   ],
   "source": [
    "roc_auc_score(y_valid, [x[1] for x in preds_proba])"
   ]
  },
  {
   "cell_type": "markdown",
   "id": "78b68e8b-c300-4fcb-a929-9a4a2fced925",
   "metadata": {},
   "source": [
    "### 5 Fold Stratified CV accuracy score on the training set"
   ]
  },
  {
   "cell_type": "code",
   "execution_count": 366,
   "id": "70db0beb-f612-48ca-bc46-76eb2a86d8cc",
   "metadata": {},
   "outputs": [
    {
     "name": "stdout",
     "output_type": "stream",
     "text": [
      "CPU times: user 4.91 s, sys: 19.7 ms, total: 4.93 s\n",
      "Wall time: 2.82 s\n"
     ]
    },
    {
     "data": {
      "text/plain": [
       "0.7229179271071943"
      ]
     },
     "execution_count": 366,
     "metadata": {},
     "output_type": "execute_result"
    }
   ],
   "source": [
    "%%time \n",
    "x = cross_val_score(pipeline, X_train, y_train, cv=StratifiedKFold(n_splits=5, shuffle=True), scoring='accuracy')\n",
    "\n",
    "np.mean(x)"
   ]
  },
  {
   "cell_type": "markdown",
   "id": "365b1e0c-2f5a-4efd-b1d6-069654671465",
   "metadata": {},
   "source": [
    "### 5 Fold Stratified CV ROC-AUC score on the training set"
   ]
  },
  {
   "cell_type": "code",
   "execution_count": 367,
   "id": "9df3666c-80e0-4ee6-891b-547717859320",
   "metadata": {},
   "outputs": [
    {
     "name": "stdout",
     "output_type": "stream",
     "text": [
      "CPU times: user 5 s, sys: 0 ns, total: 5 s\n",
      "Wall time: 2.83 s\n"
     ]
    },
    {
     "data": {
      "text/plain": [
       "0.78325169593846"
      ]
     },
     "execution_count": 367,
     "metadata": {},
     "output_type": "execute_result"
    }
   ],
   "source": [
    "%%time \n",
    "x = cross_val_score(pipeline, X_train, y_train, cv=StratifiedKFold(n_splits=5, shuffle=True), scoring='roc_auc')\n",
    "\n",
    "np.mean(x)"
   ]
  },
  {
   "cell_type": "markdown",
   "id": "95175a68-9798-4ee0-b1b8-e944f08767aa",
   "metadata": {},
   "source": [
    "### 5 Fold Stratified CV F1 score on the training set"
   ]
  },
  {
   "cell_type": "code",
   "execution_count": 368,
   "id": "ebd5416b-db85-4b73-855c-d0da6281db4a",
   "metadata": {},
   "outputs": [
    {
     "name": "stdout",
     "output_type": "stream",
     "text": [
      "CPU times: user 5.68 s, sys: 19.6 ms, total: 5.69 s\n",
      "Wall time: 3.53 s\n"
     ]
    },
    {
     "data": {
      "text/plain": [
       "0.6232140605782204"
      ]
     },
     "execution_count": 368,
     "metadata": {},
     "output_type": "execute_result"
    }
   ],
   "source": [
    "%%time \n",
    "x = cross_val_score(pipeline, X_train, y_train, cv=StratifiedKFold(n_splits=5, shuffle=True), scoring='f1')\n",
    "\n",
    "np.mean(x)"
   ]
  },
  {
   "cell_type": "markdown",
   "id": "b7c5a402-338d-4213-92e4-ad79f9bcd9ea",
   "metadata": {},
   "source": [
    "# Feature Importance"
   ]
  },
  {
   "cell_type": "code",
   "execution_count": 384,
   "id": "ad78fabb-c376-4507-898c-58fbd4aac3bc",
   "metadata": {},
   "outputs": [
    {
     "data": {
      "text/plain": [
       "<AxesSubplot:>"
      ]
     },
     "execution_count": 384,
     "metadata": {},
     "output_type": "execute_result"
    },
    {
     "data": {
      "image/png": "[encoded data removed]",
      "text/plain": [
       "<Figure size 432x288 with 1 Axes>"
      ]
     },
     "metadata": {
      "needs_background": "light"
     },
     "output_type": "display_data"
    }
   ],
   "source": [
    "pd.DataFrame(\n",
    "    {\"feature\": X_train.columns, \"importance\": pipeline[3].feature_importances_}\n",
    ").sort_values(\"importance\", ascending=False).plot(kind=\"bar\")"
   ]
  },
  {
   "cell_type": "code",
   "execution_count": null,
   "id": "ec5a3ceb-7bc6-4b1f-ac78-daad234160e0",
   "metadata": {},
   "outputs": [],
   "source": []
  },
  {
   "cell_type": "code",
   "execution_count": null,
   "id": "6320fb66-fabc-4eae-a97f-42741baca9a6",
   "metadata": {},
   "outputs": [],
   "source": []
  },
  {
   "cell_type": "markdown",
   "id": "fac75669-25a2-486a-8671-110ad08466ea",
   "metadata": {},
   "source": [
    "# Predictions on Test Data"
   ]
  },
  {
   "cell_type": "code",
   "execution_count": null,
   "id": "9d97fe49-3db3-45e6-88d5-651c86b58d37",
   "metadata": {},
   "outputs": [],
   "source": []
  },
  {
   "cell_type": "code",
   "execution_count": 369,
   "id": "210e4240-294b-4310-b5b7-9006f6f9e461",
   "metadata": {},
   "outputs": [],
   "source": [
    "preds = pipeline.predict_proba(test_data)"
   ]
  },
  {
   "cell_type": "code",
   "execution_count": 370,
   "id": "3f1a2327-a2a0-449a-b572-af9d266c2a58",
   "metadata": {},
   "outputs": [],
   "source": [
    "test_data[\"prediction\"] = [p[1] for p in preds]"
   ]
  },
  {
   "cell_type": "code",
   "execution_count": 371,
   "id": "df39182a-b436-412d-8100-511747c52712",
   "metadata": {},
   "outputs": [],
   "source": [
    "test_data.to_csv(config.FINAL_DATASET)"
   ]
  },
  {
   "cell_type": "code",
   "execution_count": null,
   "id": "7052e817-e4d7-4432-b904-8cb38ea85172",
   "metadata": {},
   "outputs": [],
   "source": []
  },
  {
   "cell_type": "code",
   "execution_count": null,
   "id": "7cc85bc3-bf27-4c1c-9920-48e67e8fd5cb",
   "metadata": {},
   "outputs": [],
   "source": []
  },
  {
   "cell_type": "markdown",
   "id": "e8fa3238-3f83-4493-b4f6-848549e9937e",
   "metadata": {
    "tags": []
   },
   "source": [
    "# Notes and Suggested Improvements. \n",
    "\n",
    "- The Target Encoder used in the final pipeline was trained over the entire training dataset, an approach that is prone to overfitting. A better way to get encoded labels is using OOF prediction in a stratified KFold scheme to avoid overfitting on the training data. This will result in K encodings for each feature, which can then be averaged out to get a single encoding per category. \n",
    "- Additional experiments around combining SMOTEN , Majority Undersampling and scaled positive class weights could yield better results. \n",
    "- A Tabular NN based approach, where each feature is embedded in a high dimensional vector space and the final targets learnt using  Cross Entory could also yield better results for this problem."
   ]
  },
  {
   "cell_type": "code",
   "execution_count": null,
   "id": "95b92579-0a3f-4c15-a0c7-0d5d5db315c6",
   "metadata": {},
   "outputs": [],
   "source": []
  },
  {
   "cell_type": "code",
   "execution_count": null,
   "id": "0f809c8d-9bed-41b9-890e-34e450ef13f5",
   "metadata": {},
   "outputs": [],
   "source": []
  },
  {
   "cell_type": "code",
   "execution_count": null,
   "id": "44c1734b-ee2a-4a4f-aaee-4f5da2269e06",
   "metadata": {},
   "outputs": [],
   "source": []
  }
 ],
 "metadata": {
  "kernelspec": {
   "display_name": "Python 3 (ipykernel)",
   "language": "python",
   "name": "python3"
  },
  "language_info": {
   "codemirror_mode": {
    "name": "ipython",
    "version": 3
   },
   "file_extension": ".py",
   "mimetype": "text/x-python",
   "name": "python",
   "nbconvert_exporter": "python",
   "pygments_lexer": "ipython3",
   "version": "3.9.5"
  }
 },
 "nbformat": 4,
 "nbformat_minor": 5
}
