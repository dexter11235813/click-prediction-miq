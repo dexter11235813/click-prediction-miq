{
 "cells": [
  {
   "cell_type": "code",
   "execution_count": 21,
   "id": "dbffff40-5ae4-4ba3-b25f-c677cb99ea6c",
   "metadata": {},
   "outputs": [
    {
     "name": "stdout",
     "output_type": "stream",
     "text": [
      "The autoreload extension is already loaded. To reload it, use:\n",
      "  %reload_ext autoreload\n",
      "The lab_black extension is already loaded. To reload it, use:\n",
      "  %reload_ext lab_black\n"
     ]
    }
   ],
   "source": [
    "%load_ext autoreload\n",
    "%autoreload 2\n",
    "%load_ext lab_black"
   ]
  },
  {
   "cell_type": "code",
   "execution_count": 22,
   "id": "5eb83c39-8431-4532-bc3d-2ecffc815208",
   "metadata": {},
   "outputs": [],
   "source": [
    "import warnings\n",
    "\n",
    "warnings.filterwarnings(\"ignore\")\n",
    "warnings.simplefilter(action=\"ignore\", category=FutureWarning)"
   ]
  },
  {
   "cell_type": "code",
   "execution_count": 23,
   "id": "d3209ef8-cdc3-4352-a34e-2090e3f41c3f",
   "metadata": {},
   "outputs": [],
   "source": [
    "import pathlib\n",
    "import os\n",
    "import sys\n",
    "\n",
    "\n",
    "sys.path.append(str(pathlib.Path(os.getcwd()).resolve().parent))"
   ]
  },
  {
   "cell_type": "code",
   "execution_count": 24,
   "id": "7d169ffd-b209-44b8-8aaf-93f6b5154575",
   "metadata": {},
   "outputs": [],
   "source": [
    "import pandas as pd\n",
    "from src.models import parameter_tuning\n",
    "from config import config"
   ]
  },
  {
   "cell_type": "code",
   "execution_count": 25,
   "id": "ef0686c3-5c79-476a-bde3-4822052d10f7",
   "metadata": {},
   "outputs": [
    {
     "name": "stdout",
     "output_type": "stream",
     "text": [
      "CPU times: user 77.3 ms, sys: 0 ns, total: 77.3 ms\n",
      "Wall time: 101 ms\n"
     ]
    }
   ],
   "source": [
    "%%time\n",
    "\n",
    "X_train = pd.read_csv(config.X_TRAIN)\n",
    "X_valid = pd.read_csv(config.X_VALID)\n",
    "y_train = pd.read_csv(config.Y_TRAIN)\n",
    "y_valid = pd.read_csv(config.Y_VALID)"
   ]
  },
  {
   "cell_type": "code",
   "execution_count": 32,
   "id": "3c8b7b79-88ac-4c2a-adf7-2f70dd27fe39",
   "metadata": {},
   "outputs": [
    {
     "name": "stderr",
     "output_type": "stream",
     "text": [
      "\u001b[32m[I 2023-03-24 18:54:03,099]\u001b[0m A new study created in memory with name: Optimize\u001b[0m\n",
      "\u001b[32m[I 2023-03-24 18:54:11,802]\u001b[0m Trial 0 finished with value: 0.2964681075382182 and parameters: {'model_type': 'rf', 'sample': 0.24639878836228102, 'max_depth': 5, 'learning_rate': 0.016445845403801215, 'n_estimators': 57, 'subsample': 0.01306673923805328, 'gamma': 0.08499808989182997, 'colsample_bytree': 0.15930522616241014}. Best is trial 0 with value: 0.2964681075382182.\u001b[0m\n",
      "\u001b[32m[I 2023-03-24 18:54:12,773]\u001b[0m Trial 1 finished with value: 0.36355373778686667 and parameters: {'model_type': 'xgb', 'sample': 0.2939819704323988, 'max_depth': 7, 'learning_rate': 0.022021571957149343, 'n_estimators': 59, 'subsample': 0.023270677083837805, 'gamma': 2.716051144654844e-06, 'colsample_bytree': 0.11207606211860566}. Best is trial 1 with value: 0.36355373778686667.\u001b[0m\n",
      "\u001b[32m[I 2023-03-24 18:54:13,716]\u001b[0m Trial 2 finished with value: 0.34909515469935787 and parameters: {'model_type': 'xgb', 'sample': 0.22237057894447587, 'max_depth': 3, 'learning_rate': 0.0299223202049866, 'n_estimators': 68, 'subsample': 0.08168455894760163, 'gamma': 0.019116469627784252, 'colsample_bytree': 0.025081156860452335}. Best is trial 1 with value: 0.36355373778686667.\u001b[0m\n",
      "\u001b[32m[I 2023-03-24 18:54:22,502]\u001b[0m Trial 3 finished with value: 0.2967055879899917 and parameters: {'model_type': 'rf', 'sample': 0.10929008254399955, 'max_depth': 6, 'learning_rate': 0.017881888245041864, 'n_estimators': 53, 'subsample': 0.7902619549708229, 'gamma': 0.530953226900921, 'colsample_bytree': 0.4138040112561014}. Best is trial 1 with value: 0.36355373778686667.\u001b[0m\n",
      "\u001b[32m[I 2023-03-24 18:54:23,378]\u001b[0m Trial 4 finished with value: 0.24073394495412842 and parameters: {'model_type': 'xgb', 'sample': 0.23684660530243137, 'max_depth': 5, 'learning_rate': 0.013081785249633104, 'n_estimators': 75, 'subsample': 0.011715937392307063, 'gamma': 0.1881755597772026, 'colsample_bytree': 0.032927591344236166}. Best is trial 1 with value: 0.36355373778686667.\u001b[0m\n",
      "\u001b[32m[I 2023-03-24 18:54:24,288]\u001b[0m Trial 5 finished with value: 0.336283185840708 and parameters: {'model_type': 'xgb', 'sample': 0.20401360423556214, 'max_depth': 5, 'learning_rate': 0.01930059109702718, 'n_estimators': 99, 'subsample': 0.35503048581283064, 'gamma': 0.32808889626606236, 'colsample_bytree': 0.6161049539380962}. Best is trial 1 with value: 0.36355373778686667.\u001b[0m\n",
      "\u001b[32m[I 2023-03-24 18:54:31,753]\u001b[0m Trial 6 finished with value: 0.2837825147901212 and parameters: {'model_type': 'rf', 'sample': 0.1176985004103839, 'max_depth': 3, 'learning_rate': 0.0054775016021432685, 'n_estimators': 66, 'subsample': 0.05989003672254302, 'gamma': 1.481809088646707e-06, 'colsample_bytree': 0.4544383960336014}. Best is trial 1 with value: 0.36355373778686667.\u001b[0m\n",
      "\u001b[32m[I 2023-03-24 18:54:32,591]\u001b[0m Trial 7 finished with value: 0.3751412429378531 and parameters: {'model_type': 'xgb', 'sample': 0.2085392166316497, 'max_depth': 3, 'learning_rate': 0.08041750109464993, 'n_estimators': 53, 'subsample': 0.9413993046829938, 'gamma': 0.015064619068942013, 'colsample_bytree': 0.024970737145052723}. Best is trial 7 with value: 0.3751412429378531.\u001b[0m\n",
      "\u001b[32m[I 2023-03-24 18:54:40,694]\u001b[0m Trial 8 finished with value: 0.29218620116375726 and parameters: {'model_type': 'rf', 'sample': 0.24137146876952342, 'max_depth': 6, 'learning_rate': 0.07735576432190863, 'n_estimators': 53, 'subsample': 0.05211124595788264, 'gamma': 8.451863533931625e-08, 'colsample_bytree': 0.53236175947515}. Best is trial 7 with value: 0.3751412429378531.\u001b[0m\n",
      "\u001b[32m[I 2023-03-24 18:54:41,577]\u001b[0m Trial 9 finished with value: 0.37283691662296803 and parameters: {'model_type': 'xgb', 'sample': 0.11271167005720473, 'max_depth': 4, 'learning_rate': 0.03319314888064796, 'n_estimators': 87, 'subsample': 0.18841476921545083, 'gamma': 0.12522814303053625, 'colsample_bytree': 0.0879892974968902}. Best is trial 7 with value: 0.3751412429378531.\u001b[0m\n"
     ]
    },
    {
     "name": "stdout",
     "output_type": "stream",
     "text": [
      "CPU times: user 42 s, sys: 39.9 ms, total: 42.1 s\n",
      "Wall time: 38.5 s\n"
     ]
    }
   ],
   "source": [
    "%%time \n",
    "\n",
    "study = parameter_tuning.tune_hyperparams(X_train, X_valid, y_train, y_valid)"
   ]
  },
  {
   "cell_type": "code",
   "execution_count": null,
   "id": "c2b73a68-d11d-4ad1-9927-85254440ee04",
   "metadata": {},
   "outputs": [],
   "source": []
  },
  {
   "cell_type": "code",
   "execution_count": null,
   "id": "364e3aa6-0ebe-4313-92fe-c8ce1546f547",
   "metadata": {},
   "outputs": [],
   "source": []
  },
  {
   "cell_type": "code",
   "execution_count": null,
   "id": "0e3ac01c-cea7-4232-ae79-39b0e0e75a50",
   "metadata": {},
   "outputs": [],
   "source": []
  }
 ],
 "metadata": {
  "kernelspec": {
   "display_name": "Python 3 (ipykernel)",
   "language": "python",
   "name": "python3"
  },
  "language_info": {
   "codemirror_mode": {
    "name": "ipython",
    "version": 3
   },
   "file_extension": ".py",
   "mimetype": "text/x-python",
   "name": "python",
   "nbconvert_exporter": "python",
   "pygments_lexer": "ipython3",
   "version": "3.9.5"
  }
 },
 "nbformat": 4,
 "nbformat_minor": 5
}
