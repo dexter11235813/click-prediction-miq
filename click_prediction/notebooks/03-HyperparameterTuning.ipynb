{
 "cells": [
  {
   "cell_type": "code",
   "execution_count": 18,
   "id": "dbffff40-5ae4-4ba3-b25f-c677cb99ea6c",
   "metadata": {},
   "outputs": [
    {
     "name": "stdout",
     "output_type": "stream",
     "text": [
      "The autoreload extension is already loaded. To reload it, use:\n",
      "  %reload_ext autoreload\n",
      "The lab_black extension is already loaded. To reload it, use:\n",
      "  %reload_ext lab_black\n"
     ]
    }
   ],
   "source": [
    "%load_ext autoreload\n",
    "%autoreload 2\n",
    "%load_ext lab_black"
   ]
  },
  {
   "cell_type": "code",
   "execution_count": 28,
   "id": "5eb83c39-8431-4532-bc3d-2ecffc815208",
   "metadata": {},
   "outputs": [],
   "source": [
    "import warnings\n",
    "\n",
    "warnings.filterwarnings(\"ignore\")\n",
    "warnings.simplefilter(action=\"ignore\", category=FutureWarning)"
   ]
  },
  {
   "cell_type": "code",
   "execution_count": 29,
   "id": "d3209ef8-cdc3-4352-a34e-2090e3f41c3f",
   "metadata": {},
   "outputs": [],
   "source": [
    "import pathlib\n",
    "import os\n",
    "import sys\n",
    "\n",
    "\n",
    "sys.path.append(str(pathlib.Path(os.getcwd()).resolve().parent))"
   ]
  },
  {
   "cell_type": "code",
   "execution_count": 30,
   "id": "7d169ffd-b209-44b8-8aaf-93f6b5154575",
   "metadata": {},
   "outputs": [],
   "source": [
    "import pandas as pd\n",
    "from src.models import parameter_tuning\n",
    "from config import config"
   ]
  },
  {
   "cell_type": "code",
   "execution_count": 31,
   "id": "ef0686c3-5c79-476a-bde3-4822052d10f7",
   "metadata": {},
   "outputs": [
    {
     "name": "stdout",
     "output_type": "stream",
     "text": [
      "CPU times: user 70.9 ms, sys: 587 µs, total: 71.5 ms\n",
      "Wall time: 95.1 ms\n"
     ]
    }
   ],
   "source": [
    "%%time\n",
    "\n",
    "X_train = pd.read_csv(config.X_TRAIN)\n",
    "X_valid = pd.read_csv(config.X_VALID)\n",
    "y_train = pd.read_csv(config.Y_TRAIN)\n",
    "y_valid = pd.read_csv(config.Y_VALID)"
   ]
  },
  {
   "cell_type": "code",
   "execution_count": 32,
   "id": "3c8b7b79-88ac-4c2a-adf7-2f70dd27fe39",
   "metadata": {},
   "outputs": [
    {
     "name": "stderr",
     "output_type": "stream",
     "text": [
      "\u001b[32m[I 2023-03-22 18:49:37,171]\u001b[0m A new study created in memory with name: Optimize\u001b[0m\n",
      "\u001b[32m[I 2023-03-22 18:49:37,918]\u001b[0m Trial 0 finished with value: 0.38365963855421686 and parameters: {'max_depth': 4, 'learning_rate': 0.0951207163345817, 'n_estimators': 87, 'subsample': 0.15751320499779725, 'gamma': 1.77071686435378e-07, 'colsample_bytree': 0.020511104188433976}. Best is trial 0 with value: 0.38365963855421686.\u001b[0m\n",
      "\u001b[32m[I 2023-03-22 18:49:38,621]\u001b[0m Trial 1 finished with value: 0.3263172764514762 and parameters: {'max_depth': 3, 'learning_rate': 0.08675143843171859, 'n_estimators': 80, 'subsample': 0.2607024758370766, 'gamma': 1.4610865886287176e-08, 'colsample_bytree': 0.8706020878304853}. Best is trial 0 with value: 0.38365963855421686.\u001b[0m\n",
      "\u001b[32m[I 2023-03-22 18:49:39,367]\u001b[0m Trial 2 finished with value: 0.3669097538742023 and parameters: {'max_depth': 7, 'learning_rate': 0.022021571957149343, 'n_estimators': 59, 'subsample': 0.023270677083837805, 'gamma': 2.716051144654844e-06, 'colsample_bytree': 0.11207606211860566}. Best is trial 0 with value: 0.38365963855421686.\u001b[0m\n",
      "\u001b[32m[I 2023-03-22 18:49:40,143]\u001b[0m Trial 3 finished with value: 0.3213230950974601 and parameters: {'max_depth': 5, 'learning_rate': 0.029831684879606152, 'n_estimators': 81, 'subsample': 0.01901024531987036, 'gamma': 2.1734877073417355e-06, 'colsample_bytree': 0.05404103854647329}. Best is trial 0 with value: 0.38365963855421686.\u001b[0m\n",
      "\u001b[32m[I 2023-03-22 18:49:40,878]\u001b[0m Trial 4 finished with value: 0.38082901554404147 and parameters: {'max_depth': 5, 'learning_rate': 0.07873242017790835, 'n_estimators': 60, 'subsample': 0.10677482709481352, 'gamma': 0.0005486767416600901, 'colsample_bytree': 0.012385137298860933}. Best is trial 0 with value: 0.38365963855421686.\u001b[0m\n",
      "\u001b[32m[I 2023-03-22 18:49:41,586]\u001b[0m Trial 5 finished with value: 0.35084829517377697 and parameters: {'max_depth': 6, 'learning_rate': 0.017881888245041864, 'n_estimators': 53, 'subsample': 0.7902619549708229, 'gamma': 0.530953226900921, 'colsample_bytree': 0.4138040112561014}. Best is trial 0 with value: 0.38365963855421686.\u001b[0m\n",
      "\u001b[32m[I 2023-03-22 18:49:42,306]\u001b[0m Trial 6 finished with value: 0.20390625000000004 and parameters: {'max_depth': 4, 'learning_rate': 0.010669539286632005, 'n_estimators': 84, 'subsample': 0.07591104805282695, 'gamma': 9.469038421774442e-08, 'colsample_bytree': 0.09780337016659407}. Best is trial 0 with value: 0.38365963855421686.\u001b[0m\n",
      "\u001b[32m[I 2023-03-22 18:49:43,018]\u001b[0m Trial 7 finished with value: 0.3739102357119793 and parameters: {'max_depth': 3, 'learning_rate': 0.09102271980579943, 'n_estimators': 63, 'subsample': 0.21137059440645725, 'gamma': 3.116654126398047e-06, 'colsample_bytree': 0.10968217207529521}. Best is trial 0 with value: 0.38365963855421686.\u001b[0m\n",
      "\u001b[32m[I 2023-03-22 18:49:43,816]\u001b[0m Trial 8 finished with value: 0.33447098976109213 and parameters: {'max_depth': 5, 'learning_rate': 0.01930059109702718, 'n_estimators': 99, 'subsample': 0.35503048581283064, 'gamma': 0.32808889626606236, 'colsample_bytree': 0.6161049539380962}. Best is trial 0 with value: 0.38365963855421686.\u001b[0m\n",
      "\u001b[32m[I 2023-03-22 18:49:44,506]\u001b[0m Trial 9 finished with value: 0.3724079559881507 and parameters: {'max_depth': 5, 'learning_rate': 0.09226554926728857, 'n_estimators': 54, 'subsample': 0.024658447214487383, 'gamma': 2.300479202014574e-08, 'colsample_bytree': 0.04473636174621265}. Best is trial 0 with value: 0.38365963855421686.\u001b[0m\n"
     ]
    },
    {
     "name": "stdout",
     "output_type": "stream",
     "text": [
      "CPU times: user 12.9 s, sys: 38.2 ms, total: 12.9 s\n",
      "Wall time: 7.34 s\n"
     ]
    }
   ],
   "source": [
    "%%time \n",
    "\n",
    "study = parameter_tuning.tune_hyperparams(X_train, X_valid, y_train, y_valid)"
   ]
  },
  {
   "cell_type": "code",
   "execution_count": 33,
   "id": "c2b73a68-d11d-4ad1-9927-85254440ee04",
   "metadata": {},
   "outputs": [
    {
     "data": {
      "text/plain": [
       "{'max_depth': 4,\n",
       " 'learning_rate': 0.0951207163345817,\n",
       " 'n_estimators': 87,\n",
       " 'subsample': 0.15751320499779725,\n",
       " 'gamma': 1.77071686435378e-07,\n",
       " 'colsample_bytree': 0.020511104188433976}"
      ]
     },
     "execution_count": 33,
     "metadata": {},
     "output_type": "execute_result"
    }
   ],
   "source": [
    "study.best_params"
   ]
  },
  {
   "cell_type": "code",
   "execution_count": null,
   "id": "364e3aa6-0ebe-4313-92fe-c8ce1546f547",
   "metadata": {},
   "outputs": [],
   "source": []
  },
  {
   "cell_type": "code",
   "execution_count": null,
   "id": "0e3ac01c-cea7-4232-ae79-39b0e0e75a50",
   "metadata": {},
   "outputs": [],
   "source": []
  }
 ],
 "metadata": {
  "kernelspec": {
   "display_name": "Python 3 (ipykernel)",
   "language": "python",
   "name": "python3"
  },
  "language_info": {
   "codemirror_mode": {
    "name": "ipython",
    "version": 3
   },
   "file_extension": ".py",
   "mimetype": "text/x-python",
   "name": "python",
   "nbconvert_exporter": "python",
   "pygments_lexer": "ipython3",
   "version": "3.9.5"
  }
 },
 "nbformat": 4,
 "nbformat_minor": 5
}
